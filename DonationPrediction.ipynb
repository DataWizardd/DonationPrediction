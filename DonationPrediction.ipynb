{
 "cells": [
  {
   "cell_type": "markdown",
   "id": "ce139397",
   "metadata": {},
   "source": [
    "# Library"
   ]
  },
  {
   "cell_type": "code",
   "execution_count": 2,
   "id": "fb9074f5",
   "metadata": {
    "ExecuteTime": {
     "end_time": "2024-09-12T20:52:45.228047Z",
     "start_time": "2024-09-12T20:52:45.216541Z"
    }
   },
   "outputs": [],
   "source": [
    "import pandas as pd\n",
    "import numpy as np\n",
    "from sklearn.model_selection import train_test_split\n",
    "from sklearn.linear_model import LogisticRegression\n",
    "from sklearn.ensemble import RandomForestClassifier\n",
    "from sklearn.metrics import accuracy_score, confusion_matrix, classification_report\n",
    "from sklearn.preprocessing import StandardScaler\n",
    "import xgboost as xgb\n",
    "import lightgbm as lgb\n",
    "from catboost import CatBoostClassifier\n",
    "from sklearn.neural_network import MLPClassifier\n",
    "from tensorflow.keras.models import Sequential\n",
    "from tensorflow.keras.layers import Dense, Conv1D, Flatten, MaxPooling1D\n",
    "import matplotlib.pyplot as plt\n",
    "#import shap"
   ]
  },
  {
   "cell_type": "markdown",
   "id": "21c614f6",
   "metadata": {},
   "source": [
    "# 전처리"
   ]
  },
  {
   "cell_type": "code",
   "execution_count": 2,
   "id": "ad6d0d3c",
   "metadata": {
    "ExecuteTime": {
     "end_time": "2024-09-12T20:27:46.030764Z",
     "start_time": "2024-09-12T20:27:34.449791Z"
    }
   },
   "outputs": [
    {
     "name": "stderr",
     "output_type": "stream",
     "text": [
      "C:\\Users\\james\\AppData\\Local\\Temp\\ipykernel_21216\\128661950.py:5: DtypeWarning: Columns (5,6,7,8,9,10,11,12,28,34,58,132,263,264,292,303,326,338) have mixed types. Specify dtype option on import or set low_memory=False.\n",
      "  df = pd.read_csv(file_path)\n"
     ]
    },
    {
     "data": {
      "text/html": [
       "<div>\n",
       "<style scoped>\n",
       "    .dataframe tbody tr th:only-of-type {\n",
       "        vertical-align: middle;\n",
       "    }\n",
       "\n",
       "    .dataframe tbody tr th {\n",
       "        vertical-align: top;\n",
       "    }\n",
       "\n",
       "    .dataframe thead th {\n",
       "        text-align: right;\n",
       "    }\n",
       "</style>\n",
       "<table border=\"1\" class=\"dataframe\">\n",
       "  <thead>\n",
       "    <tr style=\"text-align: right;\">\n",
       "      <th></th>\n",
       "      <th>year</th>\n",
       "      <th>wv</th>\n",
       "      <th>wv_num</th>\n",
       "      <th>first_wv</th>\n",
       "      <th>last_wv</th>\n",
       "      <th>p_wsl</th>\n",
       "      <th>p_wsc</th>\n",
       "      <th>p_wgl</th>\n",
       "      <th>p_wgc</th>\n",
       "      <th>p_wsc_all</th>\n",
       "      <th>...</th>\n",
       "      <th>wc_60</th>\n",
       "      <th>wc_61</th>\n",
       "      <th>wc_62</th>\n",
       "      <th>wc_63</th>\n",
       "      <th>wc_8aq12</th>\n",
       "      <th>wc_64</th>\n",
       "      <th>wc_65</th>\n",
       "      <th>wc_5aq4</th>\n",
       "      <th>wc_5aq5</th>\n",
       "      <th>wc_5aq6</th>\n",
       "    </tr>\n",
       "  </thead>\n",
       "  <tbody>\n",
       "    <tr>\n",
       "      <th>0</th>\n",
       "      <td>2021</td>\n",
       "      <td>17</td>\n",
       "      <td>18</td>\n",
       "      <td>1</td>\n",
       "      <td>18</td>\n",
       "      <td>0.255098</td>\n",
       "      <td>0.255099</td>\n",
       "      <td>1301.779156</td>\n",
       "      <td>1301.779156</td>\n",
       "      <td>0.279237</td>\n",
       "      <td>...</td>\n",
       "      <td></td>\n",
       "      <td></td>\n",
       "      <td></td>\n",
       "      <td></td>\n",
       "      <td></td>\n",
       "      <td></td>\n",
       "      <td></td>\n",
       "      <td></td>\n",
       "      <td></td>\n",
       "      <td></td>\n",
       "    </tr>\n",
       "    <tr>\n",
       "      <th>1</th>\n",
       "      <td>2022</td>\n",
       "      <td>18</td>\n",
       "      <td>18</td>\n",
       "      <td>1</td>\n",
       "      <td>18</td>\n",
       "      <td>0.259465</td>\n",
       "      <td>0.256182</td>\n",
       "      <td>1370.40069</td>\n",
       "      <td>1353.065043</td>\n",
       "      <td>0.1289</td>\n",
       "      <td>...</td>\n",
       "      <td></td>\n",
       "      <td></td>\n",
       "      <td></td>\n",
       "      <td></td>\n",
       "      <td></td>\n",
       "      <td></td>\n",
       "      <td></td>\n",
       "      <td></td>\n",
       "      <td></td>\n",
       "      <td></td>\n",
       "    </tr>\n",
       "    <tr>\n",
       "      <th>2</th>\n",
       "      <td>2021</td>\n",
       "      <td>17</td>\n",
       "      <td>18</td>\n",
       "      <td>1</td>\n",
       "      <td>18</td>\n",
       "      <td>0.369345</td>\n",
       "      <td>0.369345</td>\n",
       "      <td>1884.782338</td>\n",
       "      <td>1884.782338</td>\n",
       "      <td>0.389495</td>\n",
       "      <td>...</td>\n",
       "      <td></td>\n",
       "      <td></td>\n",
       "      <td></td>\n",
       "      <td></td>\n",
       "      <td></td>\n",
       "      <td></td>\n",
       "      <td></td>\n",
       "      <td></td>\n",
       "      <td></td>\n",
       "      <td></td>\n",
       "    </tr>\n",
       "    <tr>\n",
       "      <th>3</th>\n",
       "      <td>2022</td>\n",
       "      <td>18</td>\n",
       "      <td>18</td>\n",
       "      <td>1</td>\n",
       "      <td>18</td>\n",
       "      <td>0.397864</td>\n",
       "      <td>0.480753</td>\n",
       "      <td>2101.380145</td>\n",
       "      <td>2539.170017</td>\n",
       "      <td>0.323196</td>\n",
       "      <td>...</td>\n",
       "      <td></td>\n",
       "      <td></td>\n",
       "      <td></td>\n",
       "      <td></td>\n",
       "      <td></td>\n",
       "      <td></td>\n",
       "      <td></td>\n",
       "      <td></td>\n",
       "      <td></td>\n",
       "      <td></td>\n",
       "    </tr>\n",
       "    <tr>\n",
       "      <th>4</th>\n",
       "      <td>2021</td>\n",
       "      <td>17</td>\n",
       "      <td>18</td>\n",
       "      <td>1</td>\n",
       "      <td>18</td>\n",
       "      <td>0.2284</td>\n",
       "      <td>0.228046</td>\n",
       "      <td>1165.535342</td>\n",
       "      <td>1163.730163</td>\n",
       "      <td>0.241415</td>\n",
       "      <td>...</td>\n",
       "      <td></td>\n",
       "      <td></td>\n",
       "      <td></td>\n",
       "      <td></td>\n",
       "      <td></td>\n",
       "      <td></td>\n",
       "      <td></td>\n",
       "      <td></td>\n",
       "      <td></td>\n",
       "      <td></td>\n",
       "    </tr>\n",
       "  </tbody>\n",
       "</table>\n",
       "<p>5 rows × 1183 columns</p>\n",
       "</div>"
      ],
      "text/plain": [
       "   year  wv  wv_num  first_wv  last_wv     p_wsl     p_wsc        p_wgl  \\\n",
       "0  2021  17      18         1       18  0.255098  0.255099  1301.779156   \n",
       "1  2022  18      18         1       18  0.259465  0.256182   1370.40069   \n",
       "2  2021  17      18         1       18  0.369345  0.369345  1884.782338   \n",
       "3  2022  18      18         1       18  0.397864  0.480753  2101.380145   \n",
       "4  2021  17      18         1       18    0.2284  0.228046  1165.535342   \n",
       "\n",
       "         p_wgc p_wsc_all  ... wc_60 wc_61 wc_62  wc_63  wc_8aq12  wc_64  \\\n",
       "0  1301.779156  0.279237  ...                                             \n",
       "1  1353.065043    0.1289  ...                                             \n",
       "2  1884.782338  0.389495  ...                                             \n",
       "3  2539.170017  0.323196  ...                                             \n",
       "4  1163.730163  0.241415  ...                                             \n",
       "\n",
       "   wc_65  wc_5aq4  wc_5aq5  wc_5aq6  \n",
       "0                                    \n",
       "1                                    \n",
       "2                                    \n",
       "3                                    \n",
       "4                                    \n",
       "\n",
       "[5 rows x 1183 columns]"
      ]
     },
     "execution_count": 2,
     "metadata": {},
     "output_type": "execute_result"
    }
   ],
   "source": [
    "# 파일 불러오기\n",
    "file_path = r\"C:\\Users\\james\\J DATA LAB\\Project-DonationPrediction\\data\\koweps_recent_3years_cleaned.csv\"\n",
    "df = pd.read_csv(file_path)\n",
    "df.head()"
   ]
  },
  {
   "cell_type": "code",
   "execution_count": 3,
   "id": "93cd21ca",
   "metadata": {
    "ExecuteTime": {
     "end_time": "2024-09-12T20:29:07.614854Z",
     "start_time": "2024-09-12T20:28:29.119020Z"
    }
   },
   "outputs": [],
   "source": [
    "# 결측치 제거\n",
    "df = df.replace([' ', '.', 'NaN'], np.nan)\n",
    "df = df.fillna(0)\n",
    "\n",
    "# 숫자형으로 변환 가능하도록 dtype 변경\n",
    "df = df.apply(pd.to_numeric, errors='coerce').fillna(0)\n",
    "\n",
    "# 분석대상(Y) 이진화 (1만원 이상 기부 여부)\n",
    "y = (df['p04_5'] >= 1).astype(int)\n",
    "\n",
    "# 횔용변수(X) 설정 (p04_5를 제외한 나머지)\n",
    "x = df.drop(columns=['p04_5'])"
   ]
  },
  {
   "cell_type": "code",
   "execution_count": 4,
   "id": "6d7420ea",
   "metadata": {
    "ExecuteTime": {
     "end_time": "2024-09-12T20:30:08.593153Z",
     "start_time": "2024-09-12T20:30:08.429970Z"
    }
   },
   "outputs": [],
   "source": [
    "# 데이터 분할 (train 80%, val 10%, test 10%)\n",
    "x_train, x_temp, y_train, y_temp = train_test_split(x, y, test_size=0.2, random_state=42)\n",
    "x_val, x_test, y_val, y_test = train_test_split(x_temp, y_temp, test_size=0.5, random_state=42)"
   ]
  },
  {
   "cell_type": "code",
   "execution_count": 5,
   "id": "89cc3226",
   "metadata": {
    "ExecuteTime": {
     "end_time": "2024-09-12T20:30:10.427200Z",
     "start_time": "2024-09-12T20:30:09.933441Z"
    }
   },
   "outputs": [],
   "source": [
    "# 스케일링 (StandardScaler)\n",
    "scaler = StandardScaler()\n",
    "x_train_scaled = scaler.fit_transform(x_train)\n",
    "x_val_scaled = scaler.transform(x_val)\n",
    "x_test_scaled = scaler.transform(x_test)"
   ]
  },
  {
   "cell_type": "markdown",
   "id": "9a985bad",
   "metadata": {
    "ExecuteTime": {
     "end_time": "2024-09-12T20:40:19.471352Z",
     "start_time": "2024-09-12T20:40:19.470352Z"
    }
   },
   "source": [
    "# 개인 기부확률 예측(ML 5종 + DL 2종 알고리즘)"
   ]
  },
  {
   "cell_type": "markdown",
   "id": "77cb23fc",
   "metadata": {},
   "source": [
    "## LogisticRegression"
   ]
  },
  {
   "cell_type": "code",
   "execution_count": 6,
   "id": "625bfeac",
   "metadata": {
    "ExecuteTime": {
     "end_time": "2024-09-12T20:30:17.091187Z",
     "start_time": "2024-09-12T20:30:12.580493Z"
    }
   },
   "outputs": [
    {
     "name": "stdout",
     "output_type": "stream",
     "text": [
      "검증 데이터 정확도: 0.9910824108241082\n",
      "\n",
      "테스트 데이터 정확도: 0.9904703350753151\n"
     ]
    }
   ],
   "source": [
    "# 로지스틱 회귀 모델 생성 및 학습\n",
    "logreg = LogisticRegression(max_iter=1000)\n",
    "logreg.fit(x_train_scaled, y_train)\n",
    "\n",
    "# 검증 세트로 예측 및 평가\n",
    "y_val_pred = logreg.predict(x_val_scaled)\n",
    "val_accuracy = accuracy_score(y_val, y_val_pred)\n",
    "\n",
    "print(f\"검증 데이터 정확도: {val_accuracy}\")\n",
    "\n",
    "# 테스트 세트로 예측 및 평가\n",
    "y_test_pred = logreg.predict(x_test_scaled)\n",
    "test_accuracy = accuracy_score(y_test, y_test_pred)\n",
    "\n",
    "print(f\"\\n테스트 데이터 정확도: {test_accuracy}\")"
   ]
  },
  {
   "cell_type": "markdown",
   "id": "3ccaf3c3",
   "metadata": {},
   "source": [
    "## RandomForestClassifier"
   ]
  },
  {
   "cell_type": "code",
   "execution_count": 7,
   "id": "062c5e34",
   "metadata": {
    "ExecuteTime": {
     "end_time": "2024-09-12T20:31:12.940310Z",
     "start_time": "2024-09-12T20:31:06.407677Z"
    }
   },
   "outputs": [
    {
     "name": "stdout",
     "output_type": "stream",
     "text": [
      "검증 데이터 정확도: 0.9677121771217713\n",
      "\n",
      "테스트 데이터 정확도: 0.9658776513987088\n"
     ]
    }
   ],
   "source": [
    "# 랜덤 포레스트 모델 생성\n",
    "rf = RandomForestClassifier(n_estimators=100, random_state=42)\n",
    "\n",
    "# 모델 학습\n",
    "rf.fit(x_train_scaled, y_train)\n",
    "\n",
    "# 검증 데이터로 예측\n",
    "y_val_pred = rf.predict(x_val_scaled)\n",
    "\n",
    "# 검증 세트 성능 평가\n",
    "val_accuracy = accuracy_score(y_val, y_val_pred)\n",
    "\n",
    "print(f\"검증 데이터 정확도: {val_accuracy}\")\n",
    "\n",
    "# 5. 테스트 세트 예측\n",
    "y_test_pred = rf.predict(x_test_scaled)\n",
    "\n",
    "# 테스트 세트 성능 평가\n",
    "test_accuracy = accuracy_score(y_test, y_test_pred)\n",
    "\n",
    "print(f\"\\n테스트 데이터 정확도: {test_accuracy}\")"
   ]
  },
  {
   "cell_type": "markdown",
   "id": "96e36b53",
   "metadata": {},
   "source": [
    "## XGBClassifier"
   ]
  },
  {
   "cell_type": "code",
   "execution_count": 8,
   "id": "7e6f0292",
   "metadata": {
    "ExecuteTime": {
     "end_time": "2024-09-12T20:31:39.481704Z",
     "start_time": "2024-09-12T20:31:37.346343Z"
    }
   },
   "outputs": [
    {
     "name": "stdout",
     "output_type": "stream",
     "text": [
      "검증 데이터 정확도: 0.9966174661746617\n",
      "\n",
      "테스트 데이터 정확도: 0.9935444205348909\n"
     ]
    }
   ],
   "source": [
    "# XGBoost 모델 생성\n",
    "xgb_model = xgb.XGBClassifier(n_estimators=100, random_state=42)\n",
    "\n",
    "# 모델 학습\n",
    "xgb_model.fit(x_train_scaled, y_train)\n",
    "\n",
    "# 검증 세트 예측\n",
    "y_val_pred = xgb_model.predict(x_val_scaled)\n",
    "\n",
    "# 검증 세트 성능 평가\n",
    "val_accuracy = accuracy_score(y_val, y_val_pred)\n",
    "\n",
    "print(f\"검증 데이터 정확도: {val_accuracy}\")\n",
    "\n",
    "\n",
    "# 테스트 세트 예측\n",
    "y_test_pred = xgb_model.predict(x_test_scaled)\n",
    "\n",
    "# 테스트 세트 성능 평가\n",
    "test_accuracy = accuracy_score(y_test, y_test_pred)\n",
    "\n",
    "print(f\"\\n테스트 데이터 정확도: {test_accuracy}\")"
   ]
  },
  {
   "cell_type": "markdown",
   "id": "3cfffcde",
   "metadata": {},
   "source": [
    "## LGBMClassifier"
   ]
  },
  {
   "cell_type": "code",
   "execution_count": 9,
   "id": "37b684d3",
   "metadata": {
    "ExecuteTime": {
     "end_time": "2024-09-12T20:32:15.929149Z",
     "start_time": "2024-09-12T20:32:13.984976Z"
    }
   },
   "outputs": [
    {
     "name": "stdout",
     "output_type": "stream",
     "text": [
      "[LightGBM] [Info] Number of positive: 1658, number of negative: 24359\n",
      "[LightGBM] [Info] Auto-choosing row-wise multi-threading, the overhead of testing was 0.028928 seconds.\n",
      "You can set `force_row_wise=true` to remove the overhead.\n",
      "And if memory is not enough, you can set `force_col_wise=true`.\n",
      "[LightGBM] [Info] Total Bins 35918\n",
      "[LightGBM] [Info] Number of data points in the train set: 26017, number of used features: 1018\n",
      "[LightGBM] [Info] [binary:BoostFromScore]: pavg=0.063728 -> initscore=-2.687289\n",
      "[LightGBM] [Info] Start training from score -2.687289\n",
      "[LightGBM] [Warning] No further splits with positive gain, best gain: -inf\n",
      "검증 데이터 정확도: 0.9972324723247232\n",
      "\n",
      "테스트 데이터 정확도: 0.994159237626806\n"
     ]
    }
   ],
   "source": [
    "# LightGBM 모델 생성\n",
    "lgbm_model = lgb.LGBMClassifier(n_estimators=100, random_state=42)\n",
    "\n",
    "# 모델 학습\n",
    "lgbm_model.fit(x_train_scaled, y_train)\n",
    "\n",
    "# 검증 세트 예측\n",
    "y_val_pred = lgbm_model.predict(x_val_scaled)\n",
    "\n",
    "# 검증 세트 성능 평가\n",
    "val_accuracy = accuracy_score(y_val, y_val_pred)\n",
    "\n",
    "print(f\"검증 데이터 정확도: {val_accuracy}\")\n",
    "\n",
    "# 테스트 세트 예측\n",
    "y_test_pred = lgbm_model.predict(x_test_scaled)\n",
    "\n",
    "# 테스트 세트 성능 평가\n",
    "test_accuracy = accuracy_score(y_test, y_test_pred)\n",
    "\n",
    "print(f\"\\n테스트 데이터 정확도: {test_accuracy}\")\n"
   ]
  },
  {
   "cell_type": "markdown",
   "id": "06b4af02",
   "metadata": {},
   "source": [
    "## CatBoostClassifier"
   ]
  },
  {
   "cell_type": "code",
   "execution_count": 10,
   "id": "cff6e23f",
   "metadata": {
    "ExecuteTime": {
     "end_time": "2024-09-12T20:32:49.002638Z",
     "start_time": "2024-09-12T20:32:46.724157Z"
    }
   },
   "outputs": [
    {
     "name": "stdout",
     "output_type": "stream",
     "text": [
      "검증 데이터 정확도: 0.9956949569495694\n",
      "\n",
      "테스트 데이터 정확도: 0.9932370119889333\n"
     ]
    }
   ],
   "source": [
    "# CatBoost 모델 생성\n",
    "catboost_model = CatBoostClassifier(iterations=100, random_state=42, verbose=0)\n",
    "\n",
    "# 모델 학습\n",
    "catboost_model.fit(x_train_scaled, y_train)\n",
    "\n",
    "# 검증 세트 예측\n",
    "y_val_pred = catboost_model.predict(x_val_scaled)\n",
    "\n",
    "# 검증 세트 성능 평가\n",
    "val_accuracy = accuracy_score(y_val, y_val_pred)\n",
    "\n",
    "print(f\"검증 데이터 정확도: {val_accuracy}\")\n",
    "\n",
    "\n",
    "# 테스트 세트 예측\n",
    "y_test_pred = catboost_model.predict(x_test_scaled)\n",
    "\n",
    "# 테스트 세트 성능 평가\n",
    "test_accuracy = accuracy_score(y_test, y_test_pred)\n",
    "\n",
    "print(f\"\\n테스트 데이터 정확도: {test_accuracy}\")"
   ]
  },
  {
   "cell_type": "markdown",
   "id": "850c6fb3",
   "metadata": {},
   "source": [
    "## MLPClassifier"
   ]
  },
  {
   "cell_type": "code",
   "execution_count": 11,
   "id": "e2d69890",
   "metadata": {
    "ExecuteTime": {
     "end_time": "2024-09-12T20:33:54.028253Z",
     "start_time": "2024-09-12T20:33:31.968161Z"
    }
   },
   "outputs": [
    {
     "name": "stdout",
     "output_type": "stream",
     "text": [
      "검증 데이터 정확도: 0.990159901599016\n",
      "\n",
      "테스트 데이터 정확도: 0.9895481094374423\n"
     ]
    }
   ],
   "source": [
    "# MLP 모델 생성\n",
    "mlp_model = MLPClassifier(hidden_layer_sizes=(100,), max_iter=500, random_state=42)\n",
    "\n",
    "# 모델 학습\n",
    "mlp_model.fit(x_train_scaled, y_train)\n",
    "\n",
    "# 검증 세트 예측\n",
    "y_val_pred = mlp_model.predict(x_val_scaled)\n",
    "\n",
    "# 검증 세트 성능 평가\n",
    "val_accuracy = accuracy_score(y_val, y_val_pred)\n",
    "\n",
    "print(f\"검증 데이터 정확도: {val_accuracy}\")\n",
    "\n",
    "\n",
    "# 테스트 세트 예측\n",
    "y_test_pred = mlp_model.predict(x_test_scaled)\n",
    "\n",
    "# 테스트 세트 성능 평가\n",
    "test_accuracy = accuracy_score(y_test, y_test_pred)\n",
    "\n",
    "print(f\"\\n테스트 데이터 정확도: {test_accuracy}\")"
   ]
  },
  {
   "cell_type": "markdown",
   "id": "58c35b69",
   "metadata": {},
   "source": [
    "## CNN"
   ]
  },
  {
   "cell_type": "code",
   "execution_count": 12,
   "id": "d1e03544",
   "metadata": {
    "ExecuteTime": {
     "end_time": "2024-09-12T20:40:19.420993Z",
     "start_time": "2024-09-12T20:35:19.866932Z"
    }
   },
   "outputs": [
    {
     "name": "stdout",
     "output_type": "stream",
     "text": [
      "Epoch 1/20\n"
     ]
    },
    {
     "name": "stderr",
     "output_type": "stream",
     "text": [
      "C:\\Users\\james\\anaconda3\\lib\\site-packages\\keras\\src\\layers\\convolutional\\base_conv.py:107: UserWarning: Do not pass an `input_shape`/`input_dim` argument to a layer. When using Sequential models, prefer using an `Input(shape)` object as the first layer in the model instead.\n",
      "  super().__init__(activity_regularizer=activity_regularizer, **kwargs)\n"
     ]
    },
    {
     "name": "stdout",
     "output_type": "stream",
     "text": [
      "\u001b[1m814/814\u001b[0m \u001b[32m━━━━━━━━━━━━━━━━━━━━\u001b[0m\u001b[37m\u001b[0m \u001b[1m16s\u001b[0m 19ms/step - accuracy: 0.9317 - loss: 0.2138 - val_accuracy: 0.9920 - val_loss: 0.0309\n",
      "Epoch 2/20\n",
      "\u001b[1m814/814\u001b[0m \u001b[32m━━━━━━━━━━━━━━━━━━━━\u001b[0m\u001b[37m\u001b[0m \u001b[1m15s\u001b[0m 19ms/step - accuracy: 0.9900 - loss: 0.0263 - val_accuracy: 0.9920 - val_loss: 0.0258\n",
      "Epoch 3/20\n",
      "\u001b[1m814/814\u001b[0m \u001b[32m━━━━━━━━━━━━━━━━━━━━\u001b[0m\u001b[37m\u001b[0m \u001b[1m15s\u001b[0m 18ms/step - accuracy: 0.9932 - loss: 0.0186 - val_accuracy: 0.9938 - val_loss: 0.0221\n",
      "Epoch 4/20\n",
      "\u001b[1m814/814\u001b[0m \u001b[32m━━━━━━━━━━━━━━━━━━━━\u001b[0m\u001b[37m\u001b[0m \u001b[1m15s\u001b[0m 18ms/step - accuracy: 0.9928 - loss: 0.0192 - val_accuracy: 0.9908 - val_loss: 0.0356\n",
      "Epoch 5/20\n",
      "\u001b[1m814/814\u001b[0m \u001b[32m━━━━━━━━━━━━━━━━━━━━\u001b[0m\u001b[37m\u001b[0m \u001b[1m15s\u001b[0m 18ms/step - accuracy: 0.9952 - loss: 0.0145 - val_accuracy: 0.9948 - val_loss: 0.0199\n",
      "Epoch 6/20\n",
      "\u001b[1m814/814\u001b[0m \u001b[32m━━━━━━━━━━━━━━━━━━━━\u001b[0m\u001b[37m\u001b[0m \u001b[1m15s\u001b[0m 19ms/step - accuracy: 0.9948 - loss: 0.0132 - val_accuracy: 0.9942 - val_loss: 0.0250\n",
      "Epoch 7/20\n",
      "\u001b[1m814/814\u001b[0m \u001b[32m━━━━━━━━━━━━━━━━━━━━\u001b[0m\u001b[37m\u001b[0m \u001b[1m15s\u001b[0m 18ms/step - accuracy: 0.9946 - loss: 0.0138 - val_accuracy: 0.9942 - val_loss: 0.0214\n",
      "Epoch 8/20\n",
      "\u001b[1m814/814\u001b[0m \u001b[32m━━━━━━━━━━━━━━━━━━━━\u001b[0m\u001b[37m\u001b[0m \u001b[1m15s\u001b[0m 18ms/step - accuracy: 0.9964 - loss: 0.0090 - val_accuracy: 0.9920 - val_loss: 0.0298\n",
      "Epoch 9/20\n",
      "\u001b[1m814/814\u001b[0m \u001b[32m━━━━━━━━━━━━━━━━━━━━\u001b[0m\u001b[37m\u001b[0m \u001b[1m15s\u001b[0m 18ms/step - accuracy: 0.9956 - loss: 0.0106 - val_accuracy: 0.9923 - val_loss: 0.0276\n",
      "Epoch 10/20\n",
      "\u001b[1m814/814\u001b[0m \u001b[32m━━━━━━━━━━━━━━━━━━━━\u001b[0m\u001b[37m\u001b[0m \u001b[1m15s\u001b[0m 18ms/step - accuracy: 0.9972 - loss: 0.0080 - val_accuracy: 0.9914 - val_loss: 0.0310\n",
      "Epoch 11/20\n",
      "\u001b[1m814/814\u001b[0m \u001b[32m━━━━━━━━━━━━━━━━━━━━\u001b[0m\u001b[37m\u001b[0m \u001b[1m15s\u001b[0m 18ms/step - accuracy: 0.9967 - loss: 0.0082 - val_accuracy: 0.9902 - val_loss: 0.0293\n",
      "Epoch 12/20\n",
      "\u001b[1m814/814\u001b[0m \u001b[32m━━━━━━━━━━━━━━━━━━━━\u001b[0m\u001b[37m\u001b[0m \u001b[1m15s\u001b[0m 18ms/step - accuracy: 0.9971 - loss: 0.0082 - val_accuracy: 0.9935 - val_loss: 0.0306\n",
      "Epoch 13/20\n",
      "\u001b[1m814/814\u001b[0m \u001b[32m━━━━━━━━━━━━━━━━━━━━\u001b[0m\u001b[37m\u001b[0m \u001b[1m15s\u001b[0m 18ms/step - accuracy: 0.9976 - loss: 0.0070 - val_accuracy: 0.9920 - val_loss: 0.0371\n",
      "Epoch 14/20\n",
      "\u001b[1m814/814\u001b[0m \u001b[32m━━━━━━━━━━━━━━━━━━━━\u001b[0m\u001b[37m\u001b[0m \u001b[1m15s\u001b[0m 18ms/step - accuracy: 0.9983 - loss: 0.0053 - val_accuracy: 0.9926 - val_loss: 0.0361\n",
      "Epoch 15/20\n",
      "\u001b[1m814/814\u001b[0m \u001b[32m━━━━━━━━━━━━━━━━━━━━\u001b[0m\u001b[37m\u001b[0m \u001b[1m15s\u001b[0m 18ms/step - accuracy: 0.9985 - loss: 0.0043 - val_accuracy: 0.9920 - val_loss: 0.0393\n",
      "Epoch 16/20\n",
      "\u001b[1m814/814\u001b[0m \u001b[32m━━━━━━━━━━━━━━━━━━━━\u001b[0m\u001b[37m\u001b[0m \u001b[1m15s\u001b[0m 18ms/step - accuracy: 0.9979 - loss: 0.0060 - val_accuracy: 0.9914 - val_loss: 0.0403\n",
      "Epoch 17/20\n",
      "\u001b[1m814/814\u001b[0m \u001b[32m━━━━━━━━━━━━━━━━━━━━\u001b[0m\u001b[37m\u001b[0m \u001b[1m15s\u001b[0m 18ms/step - accuracy: 0.9986 - loss: 0.0037 - val_accuracy: 0.9929 - val_loss: 0.0339\n",
      "Epoch 18/20\n",
      "\u001b[1m814/814\u001b[0m \u001b[32m━━━━━━━━━━━━━━━━━━━━\u001b[0m\u001b[37m\u001b[0m \u001b[1m15s\u001b[0m 18ms/step - accuracy: 0.9983 - loss: 0.0041 - val_accuracy: 0.9926 - val_loss: 0.0401\n",
      "Epoch 19/20\n",
      "\u001b[1m814/814\u001b[0m \u001b[32m━━━━━━━━━━━━━━━━━━━━\u001b[0m\u001b[37m\u001b[0m \u001b[1m15s\u001b[0m 18ms/step - accuracy: 0.9982 - loss: 0.0045 - val_accuracy: 0.9920 - val_loss: 0.0509\n",
      "Epoch 20/20\n",
      "\u001b[1m814/814\u001b[0m \u001b[32m━━━━━━━━━━━━━━━━━━━━\u001b[0m\u001b[37m\u001b[0m \u001b[1m15s\u001b[0m 18ms/step - accuracy: 0.9981 - loss: 0.0044 - val_accuracy: 0.9932 - val_loss: 0.0358\n",
      "\u001b[1m102/102\u001b[0m \u001b[32m━━━━━━━━━━━━━━━━━━━━\u001b[0m\u001b[37m\u001b[0m \u001b[1m0s\u001b[0m 3ms/step\n",
      "검증 데이터 정확도: 0.9932349323493235\n",
      "\u001b[1m102/102\u001b[0m \u001b[32m━━━━━━━━━━━━━━━━━━━━\u001b[0m\u001b[37m\u001b[0m \u001b[1m0s\u001b[0m 3ms/step\n",
      "\n",
      "테스트 데이터 정확도: 0.9932370119889333\n"
     ]
    }
   ],
   "source": [
    "# 3D 입력\n",
    "x_train_scaled = np.expand_dims(x_train_scaled, axis=2) \n",
    "x_val_scaled = np.expand_dims(x_val_scaled, axis=2)\n",
    "x_test_scaled = np.expand_dims(x_test_scaled, axis=2)\n",
    "\n",
    "# CNN 모델 구성\n",
    "model = Sequential()\n",
    "\n",
    "# Conv1D 층 추가 \n",
    "model.add(Conv1D(filters=64, kernel_size=2, activation='relu', input_shape=(x_train_scaled.shape[1], 1)))\n",
    "\n",
    "# MaxPooling1D 층 추가\n",
    "model.add(MaxPooling1D(pool_size=2))\n",
    "\n",
    "# Flatten 층 추가 (1D 데이터를 2D로 변환)\n",
    "model.add(Flatten())\n",
    "\n",
    "# Dense 층 추가 (출력층)\n",
    "model.add(Dense(100, activation='relu'))\n",
    "model.add(Dense(1, activation='sigmoid'))  \n",
    "\n",
    "# 모델 컴파일\n",
    "model.compile(optimizer='adam', loss='binary_crossentropy', metrics=['accuracy'])\n",
    "\n",
    "# 모델 학습\n",
    "history = model.fit(x_train_scaled, y_train, epochs=20, batch_size=32, validation_data=(x_val_scaled, y_val))\n",
    "\n",
    "# 검증 세트 성능 평가\n",
    "y_val_pred = (model.predict(x_val_scaled) > 0.5).astype(\"int32\")\n",
    "val_accuracy = accuracy_score(y_val, y_val_pred)\n",
    "\n",
    "print(f\"검증 데이터 정확도: {val_accuracy}\")\n",
    "\n",
    "# 테스트 세트 평가\n",
    "y_test_pred = (model.predict(x_test_scaled) > 0.5).astype(\"int32\")\n",
    "test_accuracy = accuracy_score(y_test, y_test_pred)\n",
    "\n",
    "print(f\"\\n테스트 데이터 정확도: {test_accuracy}\")\n"
   ]
  },
  {
   "cell_type": "code",
   "execution_count": 14,
   "id": "2864015e",
   "metadata": {
    "ExecuteTime": {
     "end_time": "2024-09-12T20:46:06.052126Z",
     "start_time": "2024-09-12T20:46:06.045796Z"
    }
   },
   "outputs": [],
   "source": [
    "# 모델 정확도 저장할 리스트\n",
    "val_accuracies = []\n",
    "test_accuracies = []"
   ]
  },
  {
   "cell_type": "code",
   "execution_count": 15,
   "id": "fedfe4aa",
   "metadata": {
    "ExecuteTime": {
     "end_time": "2024-09-12T20:46:11.923817Z",
     "start_time": "2024-09-12T20:46:11.899028Z"
    }
   },
   "outputs": [
    {
     "ename": "NameError",
     "evalue": "name 'logreg_val_accuracy' is not defined",
     "output_type": "error",
     "traceback": [
      "\u001b[1;31m---------------------------------------------------------------------------\u001b[0m",
      "\u001b[1;31mNameError\u001b[0m                                 Traceback (most recent call last)",
      "\u001b[1;32m~\\AppData\\Local\\Temp\\ipykernel_21216\\2657390427.py\u001b[0m in \u001b[0;36m<module>\u001b[1;34m\u001b[0m\n\u001b[1;32m----> 1\u001b[1;33m \u001b[0mval_accuracies\u001b[0m\u001b[1;33m.\u001b[0m\u001b[0mappend\u001b[0m\u001b[1;33m(\u001b[0m\u001b[0mlogreg_val_accuracy\u001b[0m\u001b[1;33m)\u001b[0m\u001b[1;33m\u001b[0m\u001b[1;33m\u001b[0m\u001b[0m\n\u001b[0m\u001b[0;32m      2\u001b[0m \u001b[0mtest_accuracies\u001b[0m\u001b[1;33m.\u001b[0m\u001b[0mappend\u001b[0m\u001b[1;33m(\u001b[0m\u001b[0mlogreg_test_accuracy\u001b[0m\u001b[1;33m)\u001b[0m\u001b[1;33m\u001b[0m\u001b[1;33m\u001b[0m\u001b[0m\n",
      "\u001b[1;31mNameError\u001b[0m: name 'logreg_val_accuracy' is not defined"
     ]
    }
   ],
   "source": [
    "val_accuracies.append(logreg_val_accuracy)\n",
    "test_accuracies.append(logreg_test_accuracy)"
   ]
  },
  {
   "cell_type": "code",
   "execution_count": null,
   "id": "02e095fc",
   "metadata": {},
   "outputs": [],
   "source": []
  }
 ],
 "metadata": {
  "kernelspec": {
   "display_name": "Python 3 (ipykernel)",
   "language": "python",
   "name": "python3"
  },
  "language_info": {
   "codemirror_mode": {
    "name": "ipython",
    "version": 3
   },
   "file_extension": ".py",
   "mimetype": "text/x-python",
   "name": "python",
   "nbconvert_exporter": "python",
   "pygments_lexer": "ipython3",
   "version": "3.9.13"
  },
  "toc": {
   "base_numbering": 1,
   "nav_menu": {},
   "number_sections": true,
   "sideBar": true,
   "skip_h1_title": false,
   "title_cell": "Table of Contents",
   "title_sidebar": "Contents",
   "toc_cell": false,
   "toc_position": {},
   "toc_section_display": true,
   "toc_window_display": false
  },
  "varInspector": {
   "cols": {
    "lenName": 16,
    "lenType": 16,
    "lenVar": 40
   },
   "kernels_config": {
    "python": {
     "delete_cmd_postfix": "",
     "delete_cmd_prefix": "del ",
     "library": "var_list.py",
     "varRefreshCmd": "print(var_dic_list())"
    },
    "r": {
     "delete_cmd_postfix": ") ",
     "delete_cmd_prefix": "rm(",
     "library": "var_list.r",
     "varRefreshCmd": "cat(var_dic_list()) "
    }
   },
   "types_to_exclude": [
    "module",
    "function",
    "builtin_function_or_method",
    "instance",
    "_Feature"
   ],
   "window_display": false
  }
 },
 "nbformat": 4,
 "nbformat_minor": 5
}
