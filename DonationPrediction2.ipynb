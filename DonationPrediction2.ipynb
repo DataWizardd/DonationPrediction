{
 "cells": [
  {
   "cell_type": "markdown",
   "id": "ce139397",
   "metadata": {},
   "source": [
    "# Library"
   ]
  },
  {
   "cell_type": "code",
   "execution_count": 1,
   "id": "fb9074f5",
   "metadata": {
    "ExecuteTime": {
     "end_time": "2024-09-13T01:26:01.063754Z",
     "start_time": "2024-09-13T01:25:57.077715Z"
    }
   },
   "outputs": [
    {
     "name": "stderr",
     "output_type": "stream",
     "text": [
      "C:\\Users\\james\\anaconda3\\lib\\site-packages\\scipy\\__init__.py:155: UserWarning: A NumPy version >=1.18.5 and <1.25.0 is required for this version of SciPy (detected version 1.26.4\n",
      "  warnings.warn(f\"A NumPy version >={np_minversion} and <{np_maxversion}\"\n"
     ]
    }
   ],
   "source": [
    "import pandas as pd\n",
    "import numpy as np\n",
    "from sklearn.model_selection import train_test_split\n",
    "from sklearn.linear_model import LogisticRegression\n",
    "from sklearn.ensemble import RandomForestClassifier\n",
    "from sklearn.metrics import accuracy_score, confusion_matrix, classification_report\n",
    "from sklearn.preprocessing import StandardScaler\n",
    "import xgboost as xgb\n",
    "import lightgbm as lgb\n",
    "from catboost import CatBoostClassifier\n",
    "from sklearn.neural_network import MLPClassifier\n",
    "from tensorflow.keras.models import Sequential\n",
    "from tensorflow.keras.layers import Dense, Conv1D, Flatten, MaxPooling1D\n",
    "import matplotlib.pyplot as plt\n",
    "#import shap"
   ]
  },
  {
   "cell_type": "markdown",
   "id": "21c614f6",
   "metadata": {},
   "source": [
    "# 전처리"
   ]
  },
  {
   "cell_type": "code",
   "execution_count": 2,
   "id": "ad6d0d3c",
   "metadata": {
    "ExecuteTime": {
     "end_time": "2024-09-13T01:26:05.169771Z",
     "start_time": "2024-09-13T01:26:02.949918Z"
    }
   },
   "outputs": [
    {
     "name": "stderr",
     "output_type": "stream",
     "text": [
      "C:\\Users\\james\\AppData\\Local\\Temp\\ipykernel_20888\\2273277278.py:3: DtypeWarning: Columns (5,6,7,8,9,10,11,12,28,34,58,132,263,264,292,303,326,338) have mixed types. Specify dtype option on import or set low_memory=False.\n",
      "  df = pd.read_csv(file_path)\n"
     ]
    },
    {
     "data": {
      "text/html": [
       "<div>\n",
       "<style scoped>\n",
       "    .dataframe tbody tr th:only-of-type {\n",
       "        vertical-align: middle;\n",
       "    }\n",
       "\n",
       "    .dataframe tbody tr th {\n",
       "        vertical-align: top;\n",
       "    }\n",
       "\n",
       "    .dataframe thead th {\n",
       "        text-align: right;\n",
       "    }\n",
       "</style>\n",
       "<table border=\"1\" class=\"dataframe\">\n",
       "  <thead>\n",
       "    <tr style=\"text-align: right;\">\n",
       "      <th></th>\n",
       "      <th>year</th>\n",
       "      <th>wv</th>\n",
       "      <th>wv_num</th>\n",
       "      <th>first_wv</th>\n",
       "      <th>last_wv</th>\n",
       "      <th>p_wsl</th>\n",
       "      <th>p_wsc</th>\n",
       "      <th>p_wgl</th>\n",
       "      <th>p_wgc</th>\n",
       "      <th>p_wsc_all</th>\n",
       "      <th>...</th>\n",
       "      <th>wc_60</th>\n",
       "      <th>wc_61</th>\n",
       "      <th>wc_62</th>\n",
       "      <th>wc_63</th>\n",
       "      <th>wc_8aq12</th>\n",
       "      <th>wc_64</th>\n",
       "      <th>wc_65</th>\n",
       "      <th>wc_5aq4</th>\n",
       "      <th>wc_5aq5</th>\n",
       "      <th>wc_5aq6</th>\n",
       "    </tr>\n",
       "  </thead>\n",
       "  <tbody>\n",
       "    <tr>\n",
       "      <th>0</th>\n",
       "      <td>2021</td>\n",
       "      <td>17</td>\n",
       "      <td>18</td>\n",
       "      <td>1</td>\n",
       "      <td>18</td>\n",
       "      <td>0.255098</td>\n",
       "      <td>0.255099</td>\n",
       "      <td>1301.779156</td>\n",
       "      <td>1301.779156</td>\n",
       "      <td>0.279237</td>\n",
       "      <td>...</td>\n",
       "      <td></td>\n",
       "      <td></td>\n",
       "      <td></td>\n",
       "      <td></td>\n",
       "      <td></td>\n",
       "      <td></td>\n",
       "      <td></td>\n",
       "      <td></td>\n",
       "      <td></td>\n",
       "      <td></td>\n",
       "    </tr>\n",
       "    <tr>\n",
       "      <th>1</th>\n",
       "      <td>2022</td>\n",
       "      <td>18</td>\n",
       "      <td>18</td>\n",
       "      <td>1</td>\n",
       "      <td>18</td>\n",
       "      <td>0.259465</td>\n",
       "      <td>0.256182</td>\n",
       "      <td>1370.40069</td>\n",
       "      <td>1353.065043</td>\n",
       "      <td>0.1289</td>\n",
       "      <td>...</td>\n",
       "      <td></td>\n",
       "      <td></td>\n",
       "      <td></td>\n",
       "      <td></td>\n",
       "      <td></td>\n",
       "      <td></td>\n",
       "      <td></td>\n",
       "      <td></td>\n",
       "      <td></td>\n",
       "      <td></td>\n",
       "    </tr>\n",
       "    <tr>\n",
       "      <th>2</th>\n",
       "      <td>2021</td>\n",
       "      <td>17</td>\n",
       "      <td>18</td>\n",
       "      <td>1</td>\n",
       "      <td>18</td>\n",
       "      <td>0.369345</td>\n",
       "      <td>0.369345</td>\n",
       "      <td>1884.782338</td>\n",
       "      <td>1884.782338</td>\n",
       "      <td>0.389495</td>\n",
       "      <td>...</td>\n",
       "      <td></td>\n",
       "      <td></td>\n",
       "      <td></td>\n",
       "      <td></td>\n",
       "      <td></td>\n",
       "      <td></td>\n",
       "      <td></td>\n",
       "      <td></td>\n",
       "      <td></td>\n",
       "      <td></td>\n",
       "    </tr>\n",
       "    <tr>\n",
       "      <th>3</th>\n",
       "      <td>2022</td>\n",
       "      <td>18</td>\n",
       "      <td>18</td>\n",
       "      <td>1</td>\n",
       "      <td>18</td>\n",
       "      <td>0.397864</td>\n",
       "      <td>0.480753</td>\n",
       "      <td>2101.380145</td>\n",
       "      <td>2539.170017</td>\n",
       "      <td>0.323196</td>\n",
       "      <td>...</td>\n",
       "      <td></td>\n",
       "      <td></td>\n",
       "      <td></td>\n",
       "      <td></td>\n",
       "      <td></td>\n",
       "      <td></td>\n",
       "      <td></td>\n",
       "      <td></td>\n",
       "      <td></td>\n",
       "      <td></td>\n",
       "    </tr>\n",
       "    <tr>\n",
       "      <th>4</th>\n",
       "      <td>2021</td>\n",
       "      <td>17</td>\n",
       "      <td>18</td>\n",
       "      <td>1</td>\n",
       "      <td>18</td>\n",
       "      <td>0.2284</td>\n",
       "      <td>0.228046</td>\n",
       "      <td>1165.535342</td>\n",
       "      <td>1163.730163</td>\n",
       "      <td>0.241415</td>\n",
       "      <td>...</td>\n",
       "      <td></td>\n",
       "      <td></td>\n",
       "      <td></td>\n",
       "      <td></td>\n",
       "      <td></td>\n",
       "      <td></td>\n",
       "      <td></td>\n",
       "      <td></td>\n",
       "      <td></td>\n",
       "      <td></td>\n",
       "    </tr>\n",
       "  </tbody>\n",
       "</table>\n",
       "<p>5 rows × 1183 columns</p>\n",
       "</div>"
      ],
      "text/plain": [
       "   year  wv  wv_num  first_wv  last_wv     p_wsl     p_wsc        p_wgl  \\\n",
       "0  2021  17      18         1       18  0.255098  0.255099  1301.779156   \n",
       "1  2022  18      18         1       18  0.259465  0.256182   1370.40069   \n",
       "2  2021  17      18         1       18  0.369345  0.369345  1884.782338   \n",
       "3  2022  18      18         1       18  0.397864  0.480753  2101.380145   \n",
       "4  2021  17      18         1       18    0.2284  0.228046  1165.535342   \n",
       "\n",
       "         p_wgc p_wsc_all  ... wc_60 wc_61 wc_62  wc_63  wc_8aq12  wc_64  \\\n",
       "0  1301.779156  0.279237  ...                                             \n",
       "1  1353.065043    0.1289  ...                                             \n",
       "2  1884.782338  0.389495  ...                                             \n",
       "3  2539.170017  0.323196  ...                                             \n",
       "4  1163.730163  0.241415  ...                                             \n",
       "\n",
       "   wc_65  wc_5aq4  wc_5aq5  wc_5aq6  \n",
       "0                                    \n",
       "1                                    \n",
       "2                                    \n",
       "3                                    \n",
       "4                                    \n",
       "\n",
       "[5 rows x 1183 columns]"
      ]
     },
     "execution_count": 2,
     "metadata": {},
     "output_type": "execute_result"
    }
   ],
   "source": [
    "# 파일 불러오기\n",
    "file_path = r\"C:\\Users\\james\\J DATA LAB\\Project-DonationPrediction\\data\\koweps_recent_3years_cleaned.csv\"\n",
    "df = pd.read_csv(file_path)\n",
    "df.head()"
   ]
  },
  {
   "cell_type": "code",
   "execution_count": 3,
   "id": "93cd21ca",
   "metadata": {
    "ExecuteTime": {
     "end_time": "2024-09-13T01:26:19.355201Z",
     "start_time": "2024-09-13T01:26:07.840203Z"
    }
   },
   "outputs": [],
   "source": [
    "# 결측치 제거\n",
    "df = df.replace([' ', '.', 'NaN'], np.nan)\n",
    "df = df.fillna(0)\n",
    "\n",
    "# 숫자형으로 변환 가능하도록 dtype 변경\n",
    "df = df.apply(pd.to_numeric, errors='coerce').fillna(0)\n",
    "\n",
    "# 분석대상(Y) 이진화 (1만원 이상 기부 여부)\n",
    "y = (df['p04_5'] >= 1).astype(int)\n",
    "\n",
    "# 횔용변수(X) 설정 (p04_5를 제외한 나머지)\n",
    "x = df.drop(columns=['p04_5'])"
   ]
  },
  {
   "cell_type": "code",
   "execution_count": 4,
   "id": "6d7420ea",
   "metadata": {
    "ExecuteTime": {
     "end_time": "2024-09-13T01:26:20.740184Z",
     "start_time": "2024-09-13T01:26:20.570250Z"
    }
   },
   "outputs": [],
   "source": [
    "# 데이터 분할 (train 80%, val 10%, test 10%)\n",
    "x_train, x_temp, y_train, y_temp = train_test_split(x, y, test_size=0.2, random_state=42)\n",
    "x_val, x_test, y_val, y_test = train_test_split(x_temp, y_temp, test_size=0.5, random_state=42)"
   ]
  },
  {
   "cell_type": "code",
   "execution_count": 5,
   "id": "89cc3226",
   "metadata": {
    "ExecuteTime": {
     "end_time": "2024-09-13T01:26:22.904299Z",
     "start_time": "2024-09-13T01:26:22.420897Z"
    }
   },
   "outputs": [],
   "source": [
    "# 스케일링 (StandardScaler)\n",
    "scaler = StandardScaler()\n",
    "x_train_scaled = scaler.fit_transform(x_train)\n",
    "x_val_scaled = scaler.transform(x_val)\n",
    "x_test_scaled = scaler.transform(x_test)"
   ]
  },
  {
   "cell_type": "markdown",
   "id": "9a985bad",
   "metadata": {
    "ExecuteTime": {
     "end_time": "2024-09-12T20:40:19.471352Z",
     "start_time": "2024-09-12T20:40:19.470352Z"
    }
   },
   "source": [
    "# 모델링 검증(ML 5종 + DL 2종 알고리즘)"
   ]
  },
  {
   "cell_type": "markdown",
   "id": "77cb23fc",
   "metadata": {},
   "source": [
    "## LogisticRegression"
   ]
  },
  {
   "cell_type": "code",
   "execution_count": 8,
   "id": "625bfeac",
   "metadata": {
    "ExecuteTime": {
     "end_time": "2024-09-13T01:27:16.835861Z",
     "start_time": "2024-09-13T01:27:12.579915Z"
    }
   },
   "outputs": [
    {
     "name": "stdout",
     "output_type": "stream",
     "text": [
      "VAL DATA ACCURACY SCORE: 0.9910824108241082\n",
      "Confusion Matrix: [[3005   15]\n",
      " [  14  218]]\n",
      "\n",
      "Classification Report:\n",
      "              precision    recall  f1-score   support\n",
      "\n",
      "           0       1.00      1.00      1.00      3020\n",
      "           1       0.94      0.94      0.94       232\n",
      "\n",
      "    accuracy                           0.99      3252\n",
      "   macro avg       0.97      0.97      0.97      3252\n",
      "weighted avg       0.99      0.99      0.99      3252\n",
      "\n"
     ]
    }
   ],
   "source": [
    "# 로지스틱 회귀 모델 생성 및 학습\n",
    "logreg = LogisticRegression(max_iter=1000)\n",
    "logreg.fit(x_train_scaled, y_train)\n",
    "\n",
    "# 검증 세트로 예측 및 평가\n",
    "y_val_pred = logreg.predict(x_val_scaled)\n",
    "val_accuracy = accuracy_score(y_val, y_val_pred)\n",
    "val_conf_matrix = confusion_matrix(y_val, y_val_pred)\n",
    "val_class_report = classification_report(y_val, y_val_pred)\n",
    "\n",
    "\n",
    "print(f\"VAL DATA ACCURACY SCORE: {val_accuracy}\")\n",
    "print(f\"Confusion Matrix: {val_conf_matrix}\")\n",
    "print(\"\\nClassification Report:\")\n",
    "print(val_class_report)"
   ]
  },
  {
   "cell_type": "markdown",
   "id": "3ccaf3c3",
   "metadata": {},
   "source": [
    "## RandomForestClassifier"
   ]
  },
  {
   "cell_type": "code",
   "execution_count": 9,
   "id": "062c5e34",
   "metadata": {
    "ExecuteTime": {
     "end_time": "2024-09-13T01:27:39.481806Z",
     "start_time": "2024-09-13T01:27:33.254123Z"
    }
   },
   "outputs": [
    {
     "name": "stdout",
     "output_type": "stream",
     "text": [
      "VAL DATA ACCURACY SCORE: 0.9677121771217713\n",
      "Confusion Matrix: [[3017    3]\n",
      " [ 102  130]]\n",
      "\n",
      "Classification Report:\n",
      "              precision    recall  f1-score   support\n",
      "\n",
      "           0       0.97      1.00      0.98      3020\n",
      "           1       0.98      0.56      0.71       232\n",
      "\n",
      "    accuracy                           0.97      3252\n",
      "   macro avg       0.97      0.78      0.85      3252\n",
      "weighted avg       0.97      0.97      0.96      3252\n",
      "\n"
     ]
    }
   ],
   "source": [
    "# 랜덤 포레스트 모델 생성\n",
    "rf = RandomForestClassifier(n_estimators=100, random_state=42)\n",
    "\n",
    "# 모델 학습\n",
    "rf.fit(x_train_scaled, y_train)\n",
    "\n",
    "# 검증 데이터로 예측\n",
    "y_val_pred = rf.predict(x_val_scaled)\n",
    "\n",
    "# 검증 세트 성능 평가\n",
    "val_accuracy = accuracy_score(y_val, y_val_pred)\n",
    "val_conf_matrix = confusion_matrix(y_val, y_val_pred)\n",
    "val_class_report = classification_report(y_val, y_val_pred)\n",
    "\n",
    "print(f\"VAL DATA ACCURACY SCORE: {val_accuracy}\")\n",
    "print(f\"Confusion Matrix: {val_conf_matrix}\")\n",
    "print(\"\\nClassification Report:\")\n",
    "print(val_class_report)"
   ]
  },
  {
   "cell_type": "markdown",
   "id": "96e36b53",
   "metadata": {},
   "source": [
    "## XGBClassifier"
   ]
  },
  {
   "cell_type": "code",
   "execution_count": 10,
   "id": "7e6f0292",
   "metadata": {
    "ExecuteTime": {
     "end_time": "2024-09-13T01:27:47.565047Z",
     "start_time": "2024-09-13T01:27:45.498970Z"
    }
   },
   "outputs": [
    {
     "name": "stdout",
     "output_type": "stream",
     "text": [
      "VAL DATA ACCURACY SCORE: 0.9966174661746617\n",
      "Confusion Matrix: [[3017    3]\n",
      " [   8  224]]\n",
      "\n",
      "Classification Report:\n",
      "              precision    recall  f1-score   support\n",
      "\n",
      "           0       1.00      1.00      1.00      3020\n",
      "           1       0.99      0.97      0.98       232\n",
      "\n",
      "    accuracy                           1.00      3252\n",
      "   macro avg       0.99      0.98      0.99      3252\n",
      "weighted avg       1.00      1.00      1.00      3252\n",
      "\n"
     ]
    }
   ],
   "source": [
    "# XGBoost 모델 생성\n",
    "xgb_model = xgb.XGBClassifier(n_estimators=100, random_state=42)\n",
    "\n",
    "# 모델 학습\n",
    "xgb_model.fit(x_train_scaled, y_train)\n",
    "\n",
    "# 검증 세트 예측\n",
    "y_val_pred = xgb_model.predict(x_val_scaled)\n",
    "\n",
    "# 검증 세트 성능 평가\n",
    "val_accuracy = accuracy_score(y_val, y_val_pred)\n",
    "val_conf_matrix = confusion_matrix(y_val, y_val_pred)\n",
    "val_class_report = classification_report(y_val, y_val_pred)\n",
    "\n",
    "print(f\"VAL DATA ACCURACY SCORE: {val_accuracy}\")\n",
    "print(f\"Confusion Matrix: {val_conf_matrix}\")\n",
    "print(\"\\nClassification Report:\")\n",
    "print(val_class_report)"
   ]
  },
  {
   "cell_type": "markdown",
   "id": "3cfffcde",
   "metadata": {},
   "source": [
    "## LGBMClassifier"
   ]
  },
  {
   "cell_type": "code",
   "execution_count": 11,
   "id": "37b684d3",
   "metadata": {
    "ExecuteTime": {
     "end_time": "2024-09-13T01:27:54.638499Z",
     "start_time": "2024-09-13T01:27:52.773353Z"
    }
   },
   "outputs": [
    {
     "name": "stdout",
     "output_type": "stream",
     "text": [
      "[LightGBM] [Info] Number of positive: 1658, number of negative: 24359\n",
      "[LightGBM] [Info] Auto-choosing row-wise multi-threading, the overhead of testing was 0.028202 seconds.\n",
      "You can set `force_row_wise=true` to remove the overhead.\n",
      "And if memory is not enough, you can set `force_col_wise=true`.\n",
      "[LightGBM] [Info] Total Bins 35918\n",
      "[LightGBM] [Info] Number of data points in the train set: 26017, number of used features: 1018\n",
      "[LightGBM] [Info] [binary:BoostFromScore]: pavg=0.063728 -> initscore=-2.687289\n",
      "[LightGBM] [Info] Start training from score -2.687289\n",
      "[LightGBM] [Warning] No further splits with positive gain, best gain: -inf\n",
      "VAL DATA ACCURACY SCORE: 0.9966174661746617\n",
      "Confusion Matrix: [[3018    2]\n",
      " [   7  225]]\n",
      "\n",
      "Classification Report:\n",
      "              precision    recall  f1-score   support\n",
      "\n",
      "           0       1.00      1.00      1.00      3020\n",
      "           1       0.99      0.97      0.98       232\n",
      "\n",
      "    accuracy                           1.00      3252\n",
      "   macro avg       0.99      0.98      0.99      3252\n",
      "weighted avg       1.00      1.00      1.00      3252\n",
      "\n"
     ]
    }
   ],
   "source": [
    "# LightGBM 모델 생성\n",
    "lgbm_model = lgb.LGBMClassifier(n_estimators=100, random_state=42)\n",
    "\n",
    "# 모델 학습\n",
    "lgbm_model.fit(x_train_scaled, y_train)\n",
    "\n",
    "# 검증 세트 예측\n",
    "y_val_pred = lgbm_model.predict(x_val_scaled)\n",
    "\n",
    "# 검증 세트 성능 평가\n",
    "val_conf_matrix = confusion_matrix(y_val, y_val_pred)\n",
    "val_class_report = classification_report(y_val, y_val_pred)\n",
    "\n",
    "print(f\"VAL DATA ACCURACY SCORE: {val_accuracy}\")\n",
    "print(f\"Confusion Matrix: {val_conf_matrix}\")\n",
    "print(\"\\nClassification Report:\")\n",
    "print(val_class_report)"
   ]
  },
  {
   "cell_type": "markdown",
   "id": "06b4af02",
   "metadata": {},
   "source": [
    "## CatBoostClassifier"
   ]
  },
  {
   "cell_type": "code",
   "execution_count": 12,
   "id": "cff6e23f",
   "metadata": {
    "ExecuteTime": {
     "end_time": "2024-09-13T01:28:02.302317Z",
     "start_time": "2024-09-13T01:28:00.238521Z"
    }
   },
   "outputs": [
    {
     "name": "stdout",
     "output_type": "stream",
     "text": [
      "VAL DATA ACCURACY SCORE: 0.9966174661746617\n",
      "Confusion Matrix: [[3015    5]\n",
      " [   9  223]]\n",
      "\n",
      "Classification Report:\n",
      "              precision    recall  f1-score   support\n",
      "\n",
      "           0       1.00      1.00      1.00      3020\n",
      "           1       0.98      0.96      0.97       232\n",
      "\n",
      "    accuracy                           1.00      3252\n",
      "   macro avg       0.99      0.98      0.98      3252\n",
      "weighted avg       1.00      1.00      1.00      3252\n",
      "\n"
     ]
    }
   ],
   "source": [
    "# CatBoost 모델 생성\n",
    "catboost_model = CatBoostClassifier(iterations=100, random_state=42, verbose=0)\n",
    "\n",
    "# 모델 학습\n",
    "catboost_model.fit(x_train_scaled, y_train)\n",
    "\n",
    "# 검증 세트 예측\n",
    "y_val_pred = catboost_model.predict(x_val_scaled)\n",
    "\n",
    "# 검증 세트 성능 평가\n",
    "val_conf_matrix = confusion_matrix(y_val, y_val_pred)\n",
    "val_class_report = classification_report(y_val, y_val_pred)\n",
    "\n",
    "print(f\"VAL DATA ACCURACY SCORE: {val_accuracy}\")\n",
    "print(f\"Confusion Matrix: {val_conf_matrix}\")\n",
    "print(\"\\nClassification Report:\")\n",
    "print(val_class_report)"
   ]
  },
  {
   "cell_type": "markdown",
   "id": "850c6fb3",
   "metadata": {},
   "source": [
    "## MLPClassifier"
   ]
  },
  {
   "cell_type": "code",
   "execution_count": 13,
   "id": "e2d69890",
   "metadata": {
    "ExecuteTime": {
     "end_time": "2024-09-13T01:28:28.450965Z",
     "start_time": "2024-09-13T01:28:06.500273Z"
    }
   },
   "outputs": [
    {
     "name": "stdout",
     "output_type": "stream",
     "text": [
      "VAL DATA ACCURACY SCORE: 0.9966174661746617\n",
      "Confusion Matrix: [[3008   12]\n",
      " [  20  212]]\n",
      "\n",
      "Classification Report:\n",
      "              precision    recall  f1-score   support\n",
      "\n",
      "           0       0.99      1.00      0.99      3020\n",
      "           1       0.95      0.91      0.93       232\n",
      "\n",
      "    accuracy                           0.99      3252\n",
      "   macro avg       0.97      0.95      0.96      3252\n",
      "weighted avg       0.99      0.99      0.99      3252\n",
      "\n"
     ]
    }
   ],
   "source": [
    "# MLP 모델 생성\n",
    "mlp_model = MLPClassifier(hidden_layer_sizes=(100,), max_iter=500, random_state=42)\n",
    "\n",
    "# 모델 학습\n",
    "mlp_model.fit(x_train_scaled, y_train)\n",
    "\n",
    "# 검증 세트 예측\n",
    "y_val_pred = mlp_model.predict(x_val_scaled)\n",
    "\n",
    "# 검증 세트 성능 평가\n",
    "val_conf_matrix = confusion_matrix(y_val, y_val_pred)\n",
    "val_class_report = classification_report(y_val, y_val_pred)\n",
    "\n",
    "print(f\"VAL DATA ACCURACY SCORE: {val_accuracy}\")\n",
    "print(f\"Confusion Matrix: {val_conf_matrix}\")\n",
    "print(\"\\nClassification Report:\")\n",
    "print(val_class_report)"
   ]
  },
  {
   "cell_type": "markdown",
   "id": "58c35b69",
   "metadata": {},
   "source": [
    "## CNN"
   ]
  },
  {
   "cell_type": "code",
   "execution_count": 12,
   "id": "d1e03544",
   "metadata": {
    "ExecuteTime": {
     "end_time": "2024-09-12T21:05:29.994123Z",
     "start_time": "2024-09-12T21:00:28.449806Z"
    }
   },
   "outputs": [
    {
     "name": "stdout",
     "output_type": "stream",
     "text": [
      "Epoch 1/20\n"
     ]
    },
    {
     "name": "stderr",
     "output_type": "stream",
     "text": [
      "C:\\Users\\james\\anaconda3\\lib\\site-packages\\keras\\src\\layers\\convolutional\\base_conv.py:107: UserWarning: Do not pass an `input_shape`/`input_dim` argument to a layer. When using Sequential models, prefer using an `Input(shape)` object as the first layer in the model instead.\n",
      "  super().__init__(activity_regularizer=activity_regularizer, **kwargs)\n"
     ]
    },
    {
     "name": "stdout",
     "output_type": "stream",
     "text": [
      "\u001b[1m814/814\u001b[0m \u001b[32m━━━━━━━━━━━━━━━━━━━━\u001b[0m\u001b[37m\u001b[0m \u001b[1m16s\u001b[0m 19ms/step - accuracy: 0.9377 - loss: 0.2071 - val_accuracy: 0.9935 - val_loss: 0.0256\n",
      "Epoch 2/20\n",
      "\u001b[1m814/814\u001b[0m \u001b[32m━━━━━━━━━━━━━━━━━━━━\u001b[0m\u001b[37m\u001b[0m \u001b[1m15s\u001b[0m 19ms/step - accuracy: 0.9918 - loss: 0.0250 - val_accuracy: 0.9914 - val_loss: 0.0258\n",
      "Epoch 3/20\n",
      "\u001b[1m814/814\u001b[0m \u001b[32m━━━━━━━━━━━━━━━━━━━━\u001b[0m\u001b[37m\u001b[0m \u001b[1m15s\u001b[0m 19ms/step - accuracy: 0.9932 - loss: 0.0199 - val_accuracy: 0.9945 - val_loss: 0.0256\n",
      "Epoch 4/20\n",
      "\u001b[1m814/814\u001b[0m \u001b[32m━━━━━━━━━━━━━━━━━━━━\u001b[0m\u001b[37m\u001b[0m \u001b[1m15s\u001b[0m 19ms/step - accuracy: 0.9934 - loss: 0.0169 - val_accuracy: 0.9932 - val_loss: 0.0198\n",
      "Epoch 5/20\n",
      "\u001b[1m814/814\u001b[0m \u001b[32m━━━━━━━━━━━━━━━━━━━━\u001b[0m\u001b[37m\u001b[0m \u001b[1m15s\u001b[0m 18ms/step - accuracy: 0.9952 - loss: 0.0129 - val_accuracy: 0.9926 - val_loss: 0.0270\n",
      "Epoch 6/20\n",
      "\u001b[1m814/814\u001b[0m \u001b[32m━━━━━━━━━━━━━━━━━━━━\u001b[0m\u001b[37m\u001b[0m \u001b[1m15s\u001b[0m 18ms/step - accuracy: 0.9950 - loss: 0.0124 - val_accuracy: 0.9923 - val_loss: 0.0290\n",
      "Epoch 7/20\n",
      "\u001b[1m814/814\u001b[0m \u001b[32m━━━━━━━━━━━━━━━━━━━━\u001b[0m\u001b[37m\u001b[0m \u001b[1m15s\u001b[0m 18ms/step - accuracy: 0.9958 - loss: 0.0118 - val_accuracy: 0.9859 - val_loss: 0.0417\n",
      "Epoch 8/20\n",
      "\u001b[1m814/814\u001b[0m \u001b[32m━━━━━━━━━━━━━━━━━━━━\u001b[0m\u001b[37m\u001b[0m \u001b[1m15s\u001b[0m 18ms/step - accuracy: 0.9952 - loss: 0.0126 - val_accuracy: 0.9920 - val_loss: 0.0250\n",
      "Epoch 9/20\n",
      "\u001b[1m814/814\u001b[0m \u001b[32m━━━━━━━━━━━━━━━━━━━━\u001b[0m\u001b[37m\u001b[0m \u001b[1m15s\u001b[0m 18ms/step - accuracy: 0.9959 - loss: 0.0096 - val_accuracy: 0.9926 - val_loss: 0.0239\n",
      "Epoch 10/20\n",
      "\u001b[1m814/814\u001b[0m \u001b[32m━━━━━━━━━━━━━━━━━━━━\u001b[0m\u001b[37m\u001b[0m \u001b[1m15s\u001b[0m 18ms/step - accuracy: 0.9967 - loss: 0.0085 - val_accuracy: 0.9899 - val_loss: 0.0419\n",
      "Epoch 11/20\n",
      "\u001b[1m814/814\u001b[0m \u001b[32m━━━━━━━━━━━━━━━━━━━━\u001b[0m\u001b[37m\u001b[0m \u001b[1m15s\u001b[0m 18ms/step - accuracy: 0.9963 - loss: 0.0097 - val_accuracy: 0.9945 - val_loss: 0.0246\n",
      "Epoch 12/20\n",
      "\u001b[1m814/814\u001b[0m \u001b[32m━━━━━━━━━━━━━━━━━━━━\u001b[0m\u001b[37m\u001b[0m \u001b[1m15s\u001b[0m 18ms/step - accuracy: 0.9971 - loss: 0.0077 - val_accuracy: 0.9926 - val_loss: 0.0338\n",
      "Epoch 13/20\n",
      "\u001b[1m814/814\u001b[0m \u001b[32m━━━━━━━━━━━━━━━━━━━━\u001b[0m\u001b[37m\u001b[0m \u001b[1m15s\u001b[0m 18ms/step - accuracy: 0.9970 - loss: 0.0077 - val_accuracy: 0.9914 - val_loss: 0.0349\n",
      "Epoch 14/20\n",
      "\u001b[1m814/814\u001b[0m \u001b[32m━━━━━━━━━━━━━━━━━━━━\u001b[0m\u001b[37m\u001b[0m \u001b[1m15s\u001b[0m 18ms/step - accuracy: 0.9983 - loss: 0.0047 - val_accuracy: 0.9917 - val_loss: 0.0385\n",
      "Epoch 15/20\n",
      "\u001b[1m814/814\u001b[0m \u001b[32m━━━━━━━━━━━━━━━━━━━━\u001b[0m\u001b[37m\u001b[0m \u001b[1m15s\u001b[0m 18ms/step - accuracy: 0.9987 - loss: 0.0044 - val_accuracy: 0.9923 - val_loss: 0.0357\n",
      "Epoch 16/20\n",
      "\u001b[1m814/814\u001b[0m \u001b[32m━━━━━━━━━━━━━━━━━━━━\u001b[0m\u001b[37m\u001b[0m \u001b[1m15s\u001b[0m 18ms/step - accuracy: 0.9989 - loss: 0.0032 - val_accuracy: 0.9886 - val_loss: 0.0529\n",
      "Epoch 17/20\n",
      "\u001b[1m814/814\u001b[0m \u001b[32m━━━━━━━━━━━━━━━━━━━━\u001b[0m\u001b[37m\u001b[0m \u001b[1m15s\u001b[0m 18ms/step - accuracy: 0.9979 - loss: 0.0060 - val_accuracy: 0.9929 - val_loss: 0.0444\n",
      "Epoch 18/20\n",
      "\u001b[1m814/814\u001b[0m \u001b[32m━━━━━━━━━━━━━━━━━━━━\u001b[0m\u001b[37m\u001b[0m \u001b[1m15s\u001b[0m 18ms/step - accuracy: 0.9978 - loss: 0.0059 - val_accuracy: 0.9917 - val_loss: 0.0586\n",
      "Epoch 19/20\n",
      "\u001b[1m814/814\u001b[0m \u001b[32m━━━━━━━━━━━━━━━━━━━━\u001b[0m\u001b[37m\u001b[0m \u001b[1m15s\u001b[0m 19ms/step - accuracy: 0.9987 - loss: 0.0048 - val_accuracy: 0.9932 - val_loss: 0.0552\n",
      "Epoch 20/20\n",
      "\u001b[1m814/814\u001b[0m \u001b[32m━━━━━━━━━━━━━━━━━━━━\u001b[0m\u001b[37m\u001b[0m \u001b[1m15s\u001b[0m 18ms/step - accuracy: 0.9985 - loss: 0.0036 - val_accuracy: 0.9932 - val_loss: 0.0461\n",
      "\u001b[1m102/102\u001b[0m \u001b[32m━━━━━━━━━━━━━━━━━━━━\u001b[0m\u001b[37m\u001b[0m \u001b[1m0s\u001b[0m 4ms/step\n",
      "VAL DATA ACCURACY SCORE: 0.9932349323493235\n"
     ]
    }
   ],
   "source": [
    "# 3D 입력\n",
    "x_train_scaled = np.expand_dims(x_train_scaled, axis=2) \n",
    "x_val_scaled = np.expand_dims(x_val_scaled, axis=2)\n",
    "x_test_scaled = np.expand_dims(x_test_scaled, axis=2)\n",
    "\n",
    "# CNN 모델 구성\n",
    "model = Sequential()\n",
    "\n",
    "# Conv1D 층 추가 \n",
    "model.add(Conv1D(filters=64, kernel_size=2, activation='relu', input_shape=(x_train_scaled.shape[1], 1)))\n",
    "\n",
    "# MaxPooling1D 층 추가\n",
    "model.add(MaxPooling1D(pool_size=2))\n",
    "\n",
    "# Flatten 층 추가 (1D 데이터를 2D로 변환)\n",
    "model.add(Flatten())\n",
    "\n",
    "# Dense 층 추가 (출력층)\n",
    "model.add(Dense(100, activation='relu'))\n",
    "model.add(Dense(1, activation='sigmoid'))  \n",
    "\n",
    "# 모델 컴파일\n",
    "model.compile(optimizer='adam', loss='binary_crossentropy', metrics=['accuracy'])\n",
    "\n",
    "# 모델 학습\n",
    "history = model.fit(x_train_scaled, y_train, epochs=20, batch_size=32, validation_data=(x_val_scaled, y_val))\n",
    "\n",
    "# 검증 세트 성능 평가\n",
    "y_val_pred = (model.predict(x_val_scaled) > 0.5).astype(\"int32\")\n",
    "val_accuracy = accuracy_score(y_val, y_val_pred)\n",
    "\n",
    "print(f\"VAL DATA ACCURACY SCORE: {val_accuracy}\")"
   ]
  },
  {
   "cell_type": "markdown",
   "id": "075e1097",
   "metadata": {
    "ExecuteTime": {
     "end_time": "2024-09-12T20:46:06.052126Z",
     "start_time": "2024-09-12T20:46:06.045796Z"
    }
   },
   "source": [
    "# 개인 기부확률 예측(1 Test Sample)"
   ]
  },
  {
   "cell_type": "code",
   "execution_count": 13,
   "id": "fedfe4aa",
   "metadata": {
    "ExecuteTime": {
     "end_time": "2024-09-12T21:05:40.187769Z",
     "start_time": "2024-09-12T21:05:40.172988Z"
    }
   },
   "outputs": [
    {
     "name": "stdout",
     "output_type": "stream",
     "text": [
      "기부하지 않을 확률: 0.0000\n",
      "기부할 확률: 1.0000\n"
     ]
    },
    {
     "name": "stderr",
     "output_type": "stream",
     "text": [
      "C:\\Users\\james\\anaconda3\\lib\\site-packages\\sklearn\\base.py:443: UserWarning: X has feature names, but LogisticRegression was fitted without feature names\n",
      "  warnings.warn(\n"
     ]
    }
   ],
   "source": [
    "# 테스트 세트에서 첫 번째 샘플 선택\n",
    "single_test_sample = x_test.iloc[0:1]\n",
    "\n",
    "# 기부 확률 예측\n",
    "single_sample_proba = logreg.predict_proba(single_test_sample)\n",
    "\n",
    "print(f\"기부하지 않을 확률: {single_sample_proba[0][0]:.4f}\")\n",
    "print(f\"기부할 확률: {single_sample_proba[0][1]:.4f}\")"
   ]
  },
  {
   "cell_type": "markdown",
   "id": "29a22fa6",
   "metadata": {},
   "source": [
    "# 전체 기부특성 분석(Total Test Samples)"
   ]
  },
  {
   "cell_type": "code",
   "execution_count": 15,
   "id": "68564b90",
   "metadata": {
    "ExecuteTime": {
     "end_time": "2024-09-12T21:05:58.783394Z",
     "start_time": "2024-09-12T21:05:58.706870Z"
    }
   },
   "outputs": [
    {
     "name": "stderr",
     "output_type": "stream",
     "text": [
      "C:\\Users\\james\\anaconda3\\lib\\site-packages\\sklearn\\base.py:443: UserWarning: X has feature names, but LogisticRegression was fitted without feature names\n",
      "  warnings.warn(\n",
      "C:\\Users\\james\\anaconda3\\lib\\site-packages\\sklearn\\base.py:443: UserWarning: X has feature names, but LogisticRegression was fitted without feature names\n",
      "  warnings.warn(\n"
     ]
    },
    {
     "data": {
      "text/html": [
       "<div>\n",
       "<style scoped>\n",
       "    .dataframe tbody tr th:only-of-type {\n",
       "        vertical-align: middle;\n",
       "    }\n",
       "\n",
       "    .dataframe tbody tr th {\n",
       "        vertical-align: top;\n",
       "    }\n",
       "\n",
       "    .dataframe thead th {\n",
       "        text-align: right;\n",
       "    }\n",
       "</style>\n",
       "<table border=\"1\" class=\"dataframe\">\n",
       "  <thead>\n",
       "    <tr style=\"text-align: right;\">\n",
       "      <th></th>\n",
       "      <th>year</th>\n",
       "      <th>wv</th>\n",
       "      <th>wv_num</th>\n",
       "      <th>first_wv</th>\n",
       "      <th>last_wv</th>\n",
       "      <th>p_wsl</th>\n",
       "      <th>p_wsc</th>\n",
       "      <th>p_wgl</th>\n",
       "      <th>p_wgc</th>\n",
       "      <th>p_wsc_all</th>\n",
       "      <th>...</th>\n",
       "      <th>wc_63</th>\n",
       "      <th>wc_8aq12</th>\n",
       "      <th>wc_64</th>\n",
       "      <th>wc_65</th>\n",
       "      <th>wc_5aq4</th>\n",
       "      <th>wc_5aq5</th>\n",
       "      <th>wc_5aq6</th>\n",
       "      <th>Actual</th>\n",
       "      <th>Predicted</th>\n",
       "      <th>Donation_Probability</th>\n",
       "    </tr>\n",
       "  </thead>\n",
       "  <tbody>\n",
       "    <tr>\n",
       "      <th>22327</th>\n",
       "      <td>2022</td>\n",
       "      <td>18</td>\n",
       "      <td>12</td>\n",
       "      <td>7</td>\n",
       "      <td>18</td>\n",
       "      <td>0.000000</td>\n",
       "      <td>0.000000</td>\n",
       "      <td>0.000000</td>\n",
       "      <td>0.000000</td>\n",
       "      <td>0.908367</td>\n",
       "      <td>...</td>\n",
       "      <td>0</td>\n",
       "      <td>0.0</td>\n",
       "      <td>0</td>\n",
       "      <td>0.0</td>\n",
       "      <td>0</td>\n",
       "      <td>0</td>\n",
       "      <td>0</td>\n",
       "      <td>0</td>\n",
       "      <td>1</td>\n",
       "      <td>1.0</td>\n",
       "    </tr>\n",
       "    <tr>\n",
       "      <th>25182</th>\n",
       "      <td>2021</td>\n",
       "      <td>17</td>\n",
       "      <td>2</td>\n",
       "      <td>17</td>\n",
       "      <td>18</td>\n",
       "      <td>0.000000</td>\n",
       "      <td>0.000000</td>\n",
       "      <td>0.000000</td>\n",
       "      <td>0.000000</td>\n",
       "      <td>0.000000</td>\n",
       "      <td>...</td>\n",
       "      <td>0</td>\n",
       "      <td>0.0</td>\n",
       "      <td>0</td>\n",
       "      <td>0.0</td>\n",
       "      <td>0</td>\n",
       "      <td>0</td>\n",
       "      <td>0</td>\n",
       "      <td>0</td>\n",
       "      <td>1</td>\n",
       "      <td>1.0</td>\n",
       "    </tr>\n",
       "    <tr>\n",
       "      <th>23039</th>\n",
       "      <td>2022</td>\n",
       "      <td>18</td>\n",
       "      <td>12</td>\n",
       "      <td>7</td>\n",
       "      <td>18</td>\n",
       "      <td>0.000000</td>\n",
       "      <td>0.000000</td>\n",
       "      <td>0.000000</td>\n",
       "      <td>0.000000</td>\n",
       "      <td>1.502580</td>\n",
       "      <td>...</td>\n",
       "      <td>0</td>\n",
       "      <td>0.0</td>\n",
       "      <td>0</td>\n",
       "      <td>0.0</td>\n",
       "      <td>0</td>\n",
       "      <td>0</td>\n",
       "      <td>0</td>\n",
       "      <td>0</td>\n",
       "      <td>1</td>\n",
       "      <td>1.0</td>\n",
       "    </tr>\n",
       "    <tr>\n",
       "      <th>7486</th>\n",
       "      <td>2022</td>\n",
       "      <td>18</td>\n",
       "      <td>18</td>\n",
       "      <td>1</td>\n",
       "      <td>18</td>\n",
       "      <td>0.492746</td>\n",
       "      <td>0.466374</td>\n",
       "      <td>2602.513559</td>\n",
       "      <td>2463.226107</td>\n",
       "      <td>0.381403</td>\n",
       "      <td>...</td>\n",
       "      <td>0</td>\n",
       "      <td>0.0</td>\n",
       "      <td>0</td>\n",
       "      <td>0.0</td>\n",
       "      <td>0</td>\n",
       "      <td>0</td>\n",
       "      <td>0</td>\n",
       "      <td>0</td>\n",
       "      <td>1</td>\n",
       "      <td>1.0</td>\n",
       "    </tr>\n",
       "    <tr>\n",
       "      <th>2342</th>\n",
       "      <td>2022</td>\n",
       "      <td>18</td>\n",
       "      <td>13</td>\n",
       "      <td>1</td>\n",
       "      <td>18</td>\n",
       "      <td>0.921968</td>\n",
       "      <td>1.320344</td>\n",
       "      <td>4869.512100</td>\n",
       "      <td>6973.593915</td>\n",
       "      <td>1.786622</td>\n",
       "      <td>...</td>\n",
       "      <td>0</td>\n",
       "      <td>0.0</td>\n",
       "      <td>0</td>\n",
       "      <td>0.0</td>\n",
       "      <td>0</td>\n",
       "      <td>0</td>\n",
       "      <td>0</td>\n",
       "      <td>0</td>\n",
       "      <td>1</td>\n",
       "      <td>1.0</td>\n",
       "    </tr>\n",
       "    <tr>\n",
       "      <th>18080</th>\n",
       "      <td>2021</td>\n",
       "      <td>17</td>\n",
       "      <td>18</td>\n",
       "      <td>1</td>\n",
       "      <td>18</td>\n",
       "      <td>4.052660</td>\n",
       "      <td>4.052660</td>\n",
       "      <td>20680.908325</td>\n",
       "      <td>20680.908325</td>\n",
       "      <td>4.597100</td>\n",
       "      <td>...</td>\n",
       "      <td>0</td>\n",
       "      <td>0.0</td>\n",
       "      <td>0</td>\n",
       "      <td>0.0</td>\n",
       "      <td>0</td>\n",
       "      <td>0</td>\n",
       "      <td>0</td>\n",
       "      <td>0</td>\n",
       "      <td>1</td>\n",
       "      <td>1.0</td>\n",
       "    </tr>\n",
       "    <tr>\n",
       "      <th>2622</th>\n",
       "      <td>2022</td>\n",
       "      <td>18</td>\n",
       "      <td>18</td>\n",
       "      <td>1</td>\n",
       "      <td>18</td>\n",
       "      <td>0.835007</td>\n",
       "      <td>0.914499</td>\n",
       "      <td>4410.213293</td>\n",
       "      <td>4830.063078</td>\n",
       "      <td>0.802868</td>\n",
       "      <td>...</td>\n",
       "      <td>0</td>\n",
       "      <td>0.0</td>\n",
       "      <td>0</td>\n",
       "      <td>0.0</td>\n",
       "      <td>0</td>\n",
       "      <td>0</td>\n",
       "      <td>0</td>\n",
       "      <td>0</td>\n",
       "      <td>1</td>\n",
       "      <td>1.0</td>\n",
       "    </tr>\n",
       "    <tr>\n",
       "      <th>19341</th>\n",
       "      <td>2022</td>\n",
       "      <td>18</td>\n",
       "      <td>18</td>\n",
       "      <td>1</td>\n",
       "      <td>18</td>\n",
       "      <td>0.195033</td>\n",
       "      <td>0.202132</td>\n",
       "      <td>1030.093726</td>\n",
       "      <td>1067.591709</td>\n",
       "      <td>0.175125</td>\n",
       "      <td>...</td>\n",
       "      <td>0</td>\n",
       "      <td>0.0</td>\n",
       "      <td>0</td>\n",
       "      <td>0.0</td>\n",
       "      <td>0</td>\n",
       "      <td>0</td>\n",
       "      <td>0</td>\n",
       "      <td>0</td>\n",
       "      <td>1</td>\n",
       "      <td>1.0</td>\n",
       "    </tr>\n",
       "    <tr>\n",
       "      <th>19612</th>\n",
       "      <td>2022</td>\n",
       "      <td>18</td>\n",
       "      <td>18</td>\n",
       "      <td>1</td>\n",
       "      <td>18</td>\n",
       "      <td>1.529711</td>\n",
       "      <td>1.548920</td>\n",
       "      <td>8079.393727</td>\n",
       "      <td>8180.850802</td>\n",
       "      <td>0.824541</td>\n",
       "      <td>...</td>\n",
       "      <td>0</td>\n",
       "      <td>0.0</td>\n",
       "      <td>0</td>\n",
       "      <td>0.0</td>\n",
       "      <td>0</td>\n",
       "      <td>0</td>\n",
       "      <td>0</td>\n",
       "      <td>0</td>\n",
       "      <td>1</td>\n",
       "      <td>1.0</td>\n",
       "    </tr>\n",
       "    <tr>\n",
       "      <th>18750</th>\n",
       "      <td>2022</td>\n",
       "      <td>18</td>\n",
       "      <td>18</td>\n",
       "      <td>1</td>\n",
       "      <td>18</td>\n",
       "      <td>1.185710</td>\n",
       "      <td>1.292087</td>\n",
       "      <td>6262.502780</td>\n",
       "      <td>6824.348455</td>\n",
       "      <td>1.119451</td>\n",
       "      <td>...</td>\n",
       "      <td>0</td>\n",
       "      <td>0.0</td>\n",
       "      <td>0</td>\n",
       "      <td>0.0</td>\n",
       "      <td>0</td>\n",
       "      <td>0</td>\n",
       "      <td>0</td>\n",
       "      <td>0</td>\n",
       "      <td>1</td>\n",
       "      <td>1.0</td>\n",
       "    </tr>\n",
       "  </tbody>\n",
       "</table>\n",
       "<p>10 rows × 1185 columns</p>\n",
       "</div>"
      ],
      "text/plain": [
       "       year  wv  wv_num  first_wv  last_wv     p_wsl     p_wsc         p_wgl  \\\n",
       "22327  2022  18      12         7       18  0.000000  0.000000      0.000000   \n",
       "25182  2021  17       2        17       18  0.000000  0.000000      0.000000   \n",
       "23039  2022  18      12         7       18  0.000000  0.000000      0.000000   \n",
       "7486   2022  18      18         1       18  0.492746  0.466374   2602.513559   \n",
       "2342   2022  18      13         1       18  0.921968  1.320344   4869.512100   \n",
       "18080  2021  17      18         1       18  4.052660  4.052660  20680.908325   \n",
       "2622   2022  18      18         1       18  0.835007  0.914499   4410.213293   \n",
       "19341  2022  18      18         1       18  0.195033  0.202132   1030.093726   \n",
       "19612  2022  18      18         1       18  1.529711  1.548920   8079.393727   \n",
       "18750  2022  18      18         1       18  1.185710  1.292087   6262.502780   \n",
       "\n",
       "              p_wgc  p_wsc_all  ...  wc_63  wc_8aq12  wc_64  wc_65  wc_5aq4  \\\n",
       "22327      0.000000   0.908367  ...      0       0.0      0    0.0        0   \n",
       "25182      0.000000   0.000000  ...      0       0.0      0    0.0        0   \n",
       "23039      0.000000   1.502580  ...      0       0.0      0    0.0        0   \n",
       "7486    2463.226107   0.381403  ...      0       0.0      0    0.0        0   \n",
       "2342    6973.593915   1.786622  ...      0       0.0      0    0.0        0   \n",
       "18080  20680.908325   4.597100  ...      0       0.0      0    0.0        0   \n",
       "2622    4830.063078   0.802868  ...      0       0.0      0    0.0        0   \n",
       "19341   1067.591709   0.175125  ...      0       0.0      0    0.0        0   \n",
       "19612   8180.850802   0.824541  ...      0       0.0      0    0.0        0   \n",
       "18750   6824.348455   1.119451  ...      0       0.0      0    0.0        0   \n",
       "\n",
       "       wc_5aq5  wc_5aq6  Actual  Predicted  Donation_Probability  \n",
       "22327        0        0       0          1                   1.0  \n",
       "25182        0        0       0          1                   1.0  \n",
       "23039        0        0       0          1                   1.0  \n",
       "7486         0        0       0          1                   1.0  \n",
       "2342         0        0       0          1                   1.0  \n",
       "18080        0        0       0          1                   1.0  \n",
       "2622         0        0       0          1                   1.0  \n",
       "19341        0        0       0          1                   1.0  \n",
       "19612        0        0       0          1                   1.0  \n",
       "18750        0        0       0          1                   1.0  \n",
       "\n",
       "[10 rows x 1185 columns]"
      ]
     },
     "execution_count": 15,
     "metadata": {},
     "output_type": "execute_result"
    }
   ],
   "source": [
    "# 전체 테스트 세트에 대해 예측\n",
    "y_test_pred = logreg.predict(x_test)\n",
    "\n",
    "# 기부 확률 예측\n",
    "y_test_proba = logreg.predict_proba(x_test)\n",
    "\n",
    "# 테스트 세트에서 기부 확률 높은 순으로 정렬\n",
    "test_results = x_test.copy()\n",
    "test_results['Actual'] = y_test\n",
    "test_results['Predicted'] = y_test_pred\n",
    "test_results['Donation_Probability'] = y_test_proba[:, 1]\n",
    "\n",
    "# 기부 확률이 높은 사람들의 특성 분석 (상위 10명 예시)\n",
    "top_donors = test_results.sort_values(by='Donation_Probability', ascending=False).head(10)\n",
    "top_donors"
   ]
  },
  {
   "cell_type": "code",
   "execution_count": null,
   "id": "6a443f13",
   "metadata": {},
   "outputs": [],
   "source": []
  },
  {
   "cell_type": "code",
   "execution_count": null,
   "id": "66b33a71",
   "metadata": {},
   "outputs": [],
   "source": []
  }
 ],
 "metadata": {
  "kernelspec": {
   "display_name": "Python 3 (ipykernel)",
   "language": "python",
   "name": "python3"
  },
  "language_info": {
   "codemirror_mode": {
    "name": "ipython",
    "version": 3
   },
   "file_extension": ".py",
   "mimetype": "text/x-python",
   "name": "python",
   "nbconvert_exporter": "python",
   "pygments_lexer": "ipython3",
   "version": "3.9.13"
  },
  "toc": {
   "base_numbering": 1,
   "nav_menu": {},
   "number_sections": true,
   "sideBar": true,
   "skip_h1_title": false,
   "title_cell": "Table of Contents",
   "title_sidebar": "Contents",
   "toc_cell": false,
   "toc_position": {},
   "toc_section_display": true,
   "toc_window_display": false
  },
  "varInspector": {
   "cols": {
    "lenName": 16,
    "lenType": 16,
    "lenVar": 40
   },
   "kernels_config": {
    "python": {
     "delete_cmd_postfix": "",
     "delete_cmd_prefix": "del ",
     "library": "var_list.py",
     "varRefreshCmd": "print(var_dic_list())"
    },
    "r": {
     "delete_cmd_postfix": ") ",
     "delete_cmd_prefix": "rm(",
     "library": "var_list.r",
     "varRefreshCmd": "cat(var_dic_list()) "
    }
   },
   "types_to_exclude": [
    "module",
    "function",
    "builtin_function_or_method",
    "instance",
    "_Feature"
   ],
   "window_display": false
  }
 },
 "nbformat": 4,
 "nbformat_minor": 5
}
